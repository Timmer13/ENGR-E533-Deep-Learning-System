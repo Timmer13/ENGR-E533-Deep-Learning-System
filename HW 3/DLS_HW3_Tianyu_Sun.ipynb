{
  "nbformat": 4,
  "nbformat_minor": 0,
  "metadata": {
    "colab": {
      "provenance": [],
      "machine_shape": "hm",
      "gpuType": "T4"
    },
    "kernelspec": {
      "name": "python3",
      "display_name": "Python 3"
    },
    "language_info": {
      "name": "python"
    },
    "accelerator": "GPU"
  },
  "cells": [
    {
      "cell_type": "markdown",
      "source": [
        "# Problem 1: Network Compression Using SVD"
      ],
      "metadata": {
        "id": "XWskgAatxw8p"
      }
    },
    {
      "source": [
        "import tensorflow as tf\n",
        "import numpy as np\n",
        "import matplotlib.pyplot as plt\n",
        "import random\n",
        "import librosa\n",
        "import os\n",
        "import soundfile as sf"
      ],
      "cell_type": "code",
      "metadata": {
        "id": "VHgyrrsqyAun"
      },
      "execution_count": 218,
      "outputs": []
    },
    {
      "source": [
        "(x_train, y_train), (x_test, y_test) = tf.keras.datasets.mnist.load_data()"
      ],
      "cell_type": "code",
      "metadata": {
        "id": "YhzcukMDyBZA"
      },
      "execution_count": null,
      "outputs": []
    },
    {
      "source": [
        "x_train = x_train / 255.0\n",
        "x_test = x_test / 255.0\n",
        "x_train = np.reshape(x_train, [-1, 784])\n",
        "x_test = np.reshape(x_test, [-1, 784])"
      ],
      "cell_type": "code",
      "metadata": {
        "id": "dFdsr21iyCJY"
      },
      "execution_count": null,
      "outputs": []
    },
    {
      "source": [
        "initializer = tf.keras.initializers.HeNormal()\n",
        "base = tf.keras.models.Sequential([\n",
        "  tf.keras.layers.Dense(1024, activation='relu', kernel_initializer=initializer),\n",
        "  tf.keras.layers.Dense(1024, activation='relu'),\n",
        "  tf.keras.layers.Dense(1024, activation='relu'),\n",
        "  tf.keras.layers.Dense(1024, activation='relu'),\n",
        "  tf.keras.layers.Dense(1024, activation='relu'),\n",
        "  tf.keras.layers.Dense(10, activation='softmax')\n",
        "])"
      ],
      "cell_type": "code",
      "metadata": {
        "id": "aZPQ7cJPyCjP"
      },
      "execution_count": null,
      "outputs": []
    },
    {
      "source": [
        "base.compile(optimizer='adam',\n",
        "              loss='sparse_categorical_crossentropy',\n",
        "              metrics=['accuracy'])"
      ],
      "cell_type": "code",
      "metadata": {
        "id": "i4FcsFd-yC6P"
      },
      "execution_count": null,
      "outputs": []
    },
    {
      "source": [
        "base_hist = base.fit(x_train, y_train, epochs=20, batch_size = 128)"
      ],
      "cell_type": "code",
      "metadata": {
        "colab": {
          "base_uri": "https://localhost:8080/"
        },
        "id": "nytbuKLdyDVg",
        "outputId": "ef9c9481-e258-42a0-f857-1bb03d3ef7e4"
      },
      "execution_count": null,
      "outputs": [
        {
          "output_type": "stream",
          "name": "stdout",
          "text": [
            "Epoch 1/20\n",
            "469/469 [==============================] - 4s 4ms/step - loss: 0.2205 - accuracy: 0.9334\n",
            "Epoch 2/20\n",
            "469/469 [==============================] - 2s 4ms/step - loss: 0.0987 - accuracy: 0.9713\n",
            "Epoch 3/20\n",
            "469/469 [==============================] - 2s 4ms/step - loss: 0.0687 - accuracy: 0.9804\n",
            "Epoch 4/20\n",
            "469/469 [==============================] - 2s 4ms/step - loss: 0.0541 - accuracy: 0.9844\n",
            "Epoch 5/20\n",
            "469/469 [==============================] - 2s 4ms/step - loss: 0.0506 - accuracy: 0.9860\n",
            "Epoch 6/20\n",
            "469/469 [==============================] - 2s 4ms/step - loss: 0.0368 - accuracy: 0.9894\n",
            "Epoch 7/20\n",
            "469/469 [==============================] - 2s 4ms/step - loss: 0.0360 - accuracy: 0.9903\n",
            "Epoch 8/20\n",
            "469/469 [==============================] - 2s 4ms/step - loss: 0.0319 - accuracy: 0.9913\n",
            "Epoch 9/20\n",
            "469/469 [==============================] - 2s 4ms/step - loss: 0.0250 - accuracy: 0.9933\n",
            "Epoch 10/20\n",
            "469/469 [==============================] - 2s 4ms/step - loss: 0.0263 - accuracy: 0.9930\n",
            "Epoch 11/20\n",
            "469/469 [==============================] - 2s 4ms/step - loss: 0.0282 - accuracy: 0.9929\n",
            "Epoch 12/20\n",
            "469/469 [==============================] - 2s 4ms/step - loss: 0.0273 - accuracy: 0.9931\n",
            "Epoch 13/20\n",
            "469/469 [==============================] - 2s 4ms/step - loss: 0.0228 - accuracy: 0.9943\n",
            "Epoch 14/20\n",
            "469/469 [==============================] - 2s 4ms/step - loss: 0.0186 - accuracy: 0.9950\n",
            "Epoch 15/20\n",
            "469/469 [==============================] - 2s 4ms/step - loss: 0.0222 - accuracy: 0.9947\n",
            "Epoch 16/20\n",
            "469/469 [==============================] - 2s 4ms/step - loss: 0.0177 - accuracy: 0.9959\n",
            "Epoch 17/20\n",
            "469/469 [==============================] - 2s 4ms/step - loss: 0.0155 - accuracy: 0.9964\n",
            "Epoch 18/20\n",
            "469/469 [==============================] - 2s 4ms/step - loss: 0.0199 - accuracy: 0.9952\n",
            "Epoch 19/20\n",
            "469/469 [==============================] - 2s 4ms/step - loss: 0.0185 - accuracy: 0.9955\n",
            "Epoch 20/20\n",
            "469/469 [==============================] - 2s 4ms/step - loss: 0.0157 - accuracy: 0.9965\n"
          ]
        }
      ]
    },
    {
      "cell_type": "code",
      "source": [
        "base.evaluate(x_test,y_test)"
      ],
      "metadata": {
        "colab": {
          "base_uri": "https://localhost:8080/"
        },
        "id": "Khbe0vpC2bT6",
        "outputId": "e9fa2baf-8ed0-408e-b912-042e438ab62d"
      },
      "execution_count": null,
      "outputs": [
        {
          "output_type": "stream",
          "name": "stdout",
          "text": [
            "313/313 [==============================] - 1s 2ms/step - loss: 0.1186 - accuracy: 0.9816\n"
          ]
        },
        {
          "output_type": "execute_result",
          "data": {
            "text/plain": [
              "[0.11857394874095917, 0.9815999865531921]"
            ]
          },
          "metadata": {},
          "execution_count": 22
        }
      ]
    },
    {
      "cell_type": "code",
      "source": [
        "S, U, V, B = [], [], [], []\n",
        "for i in range(len(base.layers) - 1):\n",
        "    layer = base.layers[i]\n",
        "    if isinstance(layer, tf.keras.layers.Dense):\n",
        "        weights, biases = layer.get_weights()\n",
        "        s, u, v = tf.linalg.svd(weights)\n",
        "        S.append(tf.linalg.diag(s))\n",
        "        U.append(u)\n",
        "        V.append(v)\n",
        "        B.append(biases)"
      ],
      "metadata": {
        "id": "1qLnsvWEJ4r4"
      },
      "execution_count": null,
      "outputs": []
    },
    {
      "cell_type": "code",
      "source": [
        "def svd(S, U, V, bias, model, rank):\n",
        "  for i in range(len(model.layers) - 1):\n",
        "    compressed_weights = tf.matmul(tf.matmul(U[i][:, :rank], S[i][:rank,:rank]), tf.transpose(V[i][:, :rank]))\n",
        "    model.layers[i].set_weights([compressed_weights, bias[i]])\n",
        "\n",
        "\n",
        "  eval = model.evaluate(x_test,y_test)\n",
        "  accuracy = eval[1]\n",
        "  params = 784*rank + rank*rank + rank*1024 + 1024 + 4*(1024*rank + rank*rank + rank*1024 + 1024) + 1024*10+10\n",
        "  return accuracy, params"
      ],
      "metadata": {
        "id": "qD3eCbQYKSaY"
      },
      "execution_count": null,
      "outputs": []
    },
    {
      "cell_type": "code",
      "source": [
        "accuracy_list = []\n",
        "params_list = []\n",
        "for i in [10,20,50,100,200,784]:\n",
        "  accuracy_list.append(svd(S, U, V, B, base, i)[0])\n",
        "  params_list.append(svd(S, U, V, B, base, i)[1])"
      ],
      "metadata": {
        "colab": {
          "base_uri": "https://localhost:8080/"
        },
        "id": "44MYV4KyRwwc",
        "outputId": "63e4acc1-9af1-42f5-d648-547054a3c2da"
      },
      "execution_count": null,
      "outputs": [
        {
          "output_type": "stream",
          "name": "stdout",
          "text": [
            "313/313 [==============================] - 1s 2ms/step - loss: 1.6965 - accuracy: 0.6769\n",
            "313/313 [==============================] - 1s 2ms/step - loss: 1.6965 - accuracy: 0.6769\n",
            "313/313 [==============================] - 1s 2ms/step - loss: 0.2547 - accuracy: 0.9438\n",
            "313/313 [==============================] - 1s 2ms/step - loss: 0.2547 - accuracy: 0.9438\n",
            "313/313 [==============================] - 1s 2ms/step - loss: 0.1022 - accuracy: 0.9811\n",
            "313/313 [==============================] - 1s 2ms/step - loss: 0.1022 - accuracy: 0.9811\n",
            "313/313 [==============================] - 1s 2ms/step - loss: 0.1039 - accuracy: 0.9823\n",
            "313/313 [==============================] - 1s 2ms/step - loss: 0.1039 - accuracy: 0.9823\n",
            "313/313 [==============================] - 1s 2ms/step - loss: 0.1135 - accuracy: 0.9826\n",
            "313/313 [==============================] - 1s 3ms/step - loss: 0.1135 - accuracy: 0.9826\n",
            "313/313 [==============================] - 1s 2ms/step - loss: 0.1275 - accuracy: 0.9829\n",
            "313/313 [==============================] - 1s 2ms/step - loss: 0.1275 - accuracy: 0.9829\n"
          ]
        }
      ]
    },
    {
      "cell_type": "code",
      "source": [
        "D = [10,20, 50, 100, 200, 'full']\n",
        "plt.plot(D, accuracy_list)\n",
        "plt.xlabel(\"D\")\n",
        "plt.ylabel(\"Accuracy\")\n",
        "plt.title(\"Accuracy vs D\")\n",
        "plt.show()"
      ],
      "metadata": {
        "colab": {
          "base_uri": "https://localhost:8080/",
          "height": 472
        },
        "id": "xXFkyitQLP-T",
        "outputId": "486b3780-9ec4-46a7-8b63-127b46b94d5e"
      },
      "execution_count": null,
      "outputs": [
        {
          "output_type": "display_data",
          "data": {
            "text/plain": [
              "<Figure size 640x480 with 1 Axes>"
            ],
            "image/png": "[encoded data removed]"
          },
          "metadata": {}
        }
      ]
    },
    {
      "cell_type": "code",
      "source": [
        "D = [10,20, 50, 100, 200, 'full']\n",
        "plt.plot(D, params_list)\n",
        "plt.xlabel(\"D\")\n",
        "plt.ylabel(\"Num. of parameters\")\n",
        "plt.title(\"Parameters vs D\")\n",
        "plt.show()"
      ],
      "metadata": {
        "colab": {
          "base_uri": "https://localhost:8080/",
          "height": 472
        },
        "id": "f-M9sXExYXaa",
        "outputId": "8754166d-e8d0-4be1-993c-087129602349"
      },
      "execution_count": null,
      "outputs": [
        {
          "output_type": "display_data",
          "data": {
            "text/plain": [
              "<Figure size 640x480 with 1 Axes>"
            ],
            "image/png": "[encoded data removed]"
          },
          "metadata": {}
        }
      ]
    },
    {
      "cell_type": "markdown",
      "source": [
        "# Problem 2: Network Compression Using SVD"
      ],
      "metadata": {
        "id": "cTaSgUj9S5D0"
      }
    },
    {
      "cell_type": "code",
      "source": [
        "class FactorizedDense(tf.keras.layers.Layer):\n",
        "    def __init__(self, units, rank, activation, **kwargs):\n",
        "        super(FactorizedDense, self).__init__(**kwargs)\n",
        "        self.units = units\n",
        "        self.rank = rank\n",
        "        self.activation = tf.keras.activations.get(activation)\n",
        "\n",
        "    def build(self, input_shape):\n",
        "        self.U = self.add_weight(\"U_matrix\", shape=(input_shape[-1], self.rank),\n",
        "                                initializer=\"glorot_normal\", trainable=True)\n",
        "        self.V = self.add_weight(\"V_matrix\", shape=(self.rank, self.units),\n",
        "                                initializer=\"glorot_normal\", trainable=True)\n",
        "        self.bias = self.add_weight(\"bias\", shape=(self.units,),\n",
        "                                initializer=\"zeros\", trainable=True)\n",
        "        super(FactorizedDense, self).build(input_shape)\n",
        "\n",
        "    def call(self, inputs):\n",
        "        output = tf.matmul(tf.matmul(inputs, self.U), self.V)\n",
        "        output = output + self.bias\n",
        "        output = self.activation(output)\n",
        "        return output"
      ],
      "metadata": {
        "id": "w3avQsLUdnAI"
      },
      "execution_count": null,
      "outputs": []
    },
    {
      "cell_type": "code",
      "source": [
        "svd20_uv = tf.keras.Sequential()\n",
        "svd20_uv.add(FactorizedDense(1024, 20, activation='relu', input_shape=(28 * 28,)))\n",
        "svd20_uv.add(FactorizedDense(1024, 20, activation='relu'))\n",
        "svd20_uv.add(FactorizedDense(1024, 20, activation='relu'))\n",
        "svd20_uv.add(FactorizedDense(1024, 20, activation='relu'))\n",
        "svd20_uv.add(FactorizedDense(1024, 20, activation='relu'))\n",
        "svd20_uv.add(tf.keras.layers.Dense(10, activation='softmax'))"
      ],
      "metadata": {
        "id": "IWI0Qdb-l4pu"
      },
      "execution_count": null,
      "outputs": []
    },
    {
      "cell_type": "code",
      "source": [
        "svd20_uv.compile(optimizer=tf.keras.optimizers.Adam(learning_rate=0.0001),  # Use a smaller learning rate\n",
        "                        loss='sparse_categorical_crossentropy',\n",
        "                        metrics=['accuracy'])"
      ],
      "metadata": {
        "id": "lg7VmR_Bgr3K"
      },
      "execution_count": null,
      "outputs": []
    },
    {
      "cell_type": "code",
      "source": [
        "for i in range(len(base.layers) - 1):\n",
        "    layer = base.layers[i]\n",
        "    if isinstance(layer, tf.keras.layers.Dense):\n",
        "        weights, biases = layer.get_weights()\n",
        "        s, u, v = tf.linalg.svd(weights)\n",
        "        s = tf.linalg.diag(s)\n",
        "        ul, vl = u[:,:20], tf.matmul(s[:20,:20],tf.transpose(v[:,:20]))\n",
        "        svd20_uv.layers[i].set_weights([ul, vl, biases])"
      ],
      "metadata": {
        "id": "6TGw_5LIjiEg"
      },
      "execution_count": null,
      "outputs": []
    },
    {
      "cell_type": "code",
      "source": [
        "svd20_uv_hist = svd20_uv.fit(x_train, y_train, epochs=20)"
      ],
      "metadata": {
        "colab": {
          "base_uri": "https://localhost:8080/"
        },
        "id": "OfGmI73gg0YM",
        "outputId": "576770a6-458b-4118-bcc5-88638b5acc9a"
      },
      "execution_count": null,
      "outputs": [
        {
          "output_type": "stream",
          "name": "stdout",
          "text": [
            "Epoch 1/20\n",
            "1875/1875 [==============================] - 9s 4ms/step - loss: 0.5818 - accuracy: 0.8024\n",
            "Epoch 2/20\n",
            "1875/1875 [==============================] - 7s 4ms/step - loss: 0.1758 - accuracy: 0.9466\n",
            "Epoch 3/20\n",
            "1875/1875 [==============================] - 7s 4ms/step - loss: 0.1306 - accuracy: 0.9598\n",
            "Epoch 4/20\n",
            "1875/1875 [==============================] - 7s 4ms/step - loss: 0.1124 - accuracy: 0.9648\n",
            "Epoch 5/20\n",
            "1875/1875 [==============================] - 7s 4ms/step - loss: 0.0969 - accuracy: 0.9702\n",
            "Epoch 6/20\n",
            "1875/1875 [==============================] - 7s 4ms/step - loss: 0.0891 - accuracy: 0.9730\n",
            "Epoch 7/20\n",
            "1875/1875 [==============================] - 7s 4ms/step - loss: 0.0813 - accuracy: 0.9744\n",
            "Epoch 8/20\n",
            "1875/1875 [==============================] - 7s 4ms/step - loss: 0.0756 - accuracy: 0.9759\n",
            "Epoch 9/20\n",
            "1875/1875 [==============================] - 7s 4ms/step - loss: 0.0702 - accuracy: 0.9783\n",
            "Epoch 10/20\n",
            "1875/1875 [==============================] - 7s 4ms/step - loss: 0.0649 - accuracy: 0.9792\n",
            "Epoch 11/20\n",
            "1875/1875 [==============================] - 7s 4ms/step - loss: 0.0613 - accuracy: 0.9806\n",
            "Epoch 12/20\n",
            "1875/1875 [==============================] - 7s 4ms/step - loss: 0.0588 - accuracy: 0.9810\n",
            "Epoch 13/20\n",
            "1875/1875 [==============================] - 7s 4ms/step - loss: 0.0538 - accuracy: 0.9829\n",
            "Epoch 14/20\n",
            "1875/1875 [==============================] - 7s 4ms/step - loss: 0.0512 - accuracy: 0.9838\n",
            "Epoch 15/20\n",
            "1875/1875 [==============================] - 7s 4ms/step - loss: 0.0481 - accuracy: 0.9842\n",
            "Epoch 16/20\n",
            "1875/1875 [==============================] - 7s 4ms/step - loss: 0.0461 - accuracy: 0.9853\n",
            "Epoch 17/20\n",
            "1875/1875 [==============================] - 7s 4ms/step - loss: 0.0432 - accuracy: 0.9858\n",
            "Epoch 18/20\n",
            "1875/1875 [==============================] - 7s 4ms/step - loss: 0.0414 - accuracy: 0.9869\n",
            "Epoch 19/20\n",
            "1875/1875 [==============================] - 7s 4ms/step - loss: 0.0396 - accuracy: 0.9872\n",
            "Epoch 20/20\n",
            "1875/1875 [==============================] - 7s 4ms/step - loss: 0.0386 - accuracy: 0.9872\n"
          ]
        }
      ]
    },
    {
      "cell_type": "code",
      "source": [
        "svd20_uv.evaluate(x_test,y_test)"
      ],
      "metadata": {
        "colab": {
          "base_uri": "https://localhost:8080/"
        },
        "id": "ym6C8WmvtWtU",
        "outputId": "4aea1d0c-056a-47fa-8a8e-d055d43318ee"
      },
      "execution_count": null,
      "outputs": [
        {
          "output_type": "stream",
          "name": "stdout",
          "text": [
            "313/313 [==============================] - 1s 3ms/step - loss: 0.0956 - accuracy: 0.9743\n"
          ]
        },
        {
          "output_type": "execute_result",
          "data": {
            "text/plain": [
              "[0.0956331267952919, 0.9743000268936157]"
            ]
          },
          "metadata": {},
          "execution_count": 132
        }
      ]
    },
    {
      "cell_type": "markdown",
      "source": [
        "# Problem 3: Network Compression Using SVD"
      ],
      "metadata": {
        "id": "HCNiP0axt5gM"
      }
    },
    {
      "cell_type": "code",
      "source": [
        "class DenseSVD(tf.keras.layers.Layer):\n",
        "    def __init__(self, units, rank, activation, **kwargs):\n",
        "        super(DenseSVD, self).__init__(**kwargs)\n",
        "        self.units = units\n",
        "        self.rank = rank\n",
        "        self.activation = tf.keras.activations.get(activation)\n",
        "\n",
        "    def build(self, input_shape):\n",
        "        self.w = self.add_weight(\"w\", shape=(input_shape[-1], self.units),\n",
        "                                initializer='glorot_normal', trainable=True)\n",
        "        self.bias = self.add_weight(\"bias\", shape=(self.units,),\n",
        "                                initializer=\"zeros\", trainable=True)\n",
        "        super(DenseSVD, self).build(input_shape)\n",
        "\n",
        "    def call(self, inputs):\n",
        "        s, u, v = tf.linalg.svd(self.w)\n",
        "        s = tf.linalg.diag(s)\n",
        "        w_hat = tf.matmul(tf.matmul(u[:, :self.rank], s[:self.rank, :self.rank]), tf.transpose(v[:, :self.rank]))\n",
        "        output = tf.matmul(inputs, w_hat) + self.bias\n",
        "        output = self.activation(output)\n",
        "        return output"
      ],
      "metadata": {
        "id": "MKXS3XCct7-M"
      },
      "execution_count": null,
      "outputs": []
    },
    {
      "cell_type": "code",
      "source": [
        "svd20_svd = tf.keras.Sequential()\n",
        "svd20_svd.add(DenseSVD(1024, 20, activation='relu', input_shape=(28 * 28,)))\n",
        "svd20_svd.add(DenseSVD(1024, 20, activation='relu'))\n",
        "svd20_svd.add(DenseSVD(1024, 20, activation='relu'))\n",
        "svd20_svd.add(DenseSVD(1024, 20, activation='relu'))\n",
        "svd20_svd.add(DenseSVD(1024, 20, activation='relu'))\n",
        "svd20_svd.add(tf.keras.layers.Dense(10, activation='softmax'))"
      ],
      "metadata": {
        "id": "UhAORTRTyJMG"
      },
      "execution_count": null,
      "outputs": []
    },
    {
      "cell_type": "code",
      "source": [
        "svd20_svd.compile(optimizer=tf.keras.optimizers.Adam(learning_rate=0.001),  # Use a smaller learning rate\n",
        "                        loss='sparse_categorical_crossentropy',\n",
        "                        metrics=['accuracy'])"
      ],
      "metadata": {
        "id": "u0AmIJIU0sZ2"
      },
      "execution_count": null,
      "outputs": []
    },
    {
      "cell_type": "code",
      "source": [
        "for i in range(len(base.layers) - 1):\n",
        "    layer = base.layers[i]\n",
        "    if isinstance(layer, tf.keras.layers.Dense):\n",
        "        weights, biases = layer.get_weights()\n",
        "        s, u, v = tf.linalg.svd(weights)\n",
        "        s = tf.linalg.diag(s)\n",
        "        w = tf.matmul(tf.matmul(u[:,:20],s[:20,:20]),tf.transpose(v[:,:20]))\n",
        "        svd20_svd.layers[i].set_weights([w, biases])"
      ],
      "metadata": {
        "id": "dmifaC9X0yiJ"
      },
      "execution_count": null,
      "outputs": []
    },
    {
      "cell_type": "code",
      "source": [
        "svd20_svd.fit(x_train, y_train, epochs=10,batch_size=1024)"
      ],
      "metadata": {
        "colab": {
          "base_uri": "https://localhost:8080/"
        },
        "id": "kpwahMwn1Kw6",
        "outputId": "586f74a4-cff5-4626-9694-12c934d15918"
      },
      "execution_count": null,
      "outputs": [
        {
          "output_type": "stream",
          "name": "stdout",
          "text": [
            "Epoch 1/10\n",
            "59/59 [==============================] - 159s 3s/step - loss: 0.3962 - accuracy: 0.8970\n",
            "Epoch 2/10\n",
            "59/59 [==============================] - 156s 3s/step - loss: 0.0604 - accuracy: 0.9838\n",
            "Epoch 3/10\n",
            "59/59 [==============================] - 155s 3s/step - loss: 0.0414 - accuracy: 0.9881\n",
            "Epoch 4/10\n",
            "59/59 [==============================] - 154s 3s/step - loss: 0.0316 - accuracy: 0.9907\n",
            "Epoch 5/10\n",
            "59/59 [==============================] - 154s 3s/step - loss: 0.0266 - accuracy: 0.9919\n",
            "Epoch 6/10\n",
            "59/59 [==============================] - 154s 3s/step - loss: 0.0242 - accuracy: 0.9927\n",
            "Epoch 7/10\n",
            "59/59 [==============================] - 154s 3s/step - loss: 0.0208 - accuracy: 0.9933\n",
            "Epoch 8/10\n",
            "59/59 [==============================] - 153s 3s/step - loss: 0.0165 - accuracy: 0.9948\n",
            "Epoch 9/10\n",
            "59/59 [==============================] - 153s 3s/step - loss: 0.0176 - accuracy: 0.9947\n",
            "Epoch 10/10\n",
            "59/59 [==============================] - 153s 3s/step - loss: 0.0180 - accuracy: 0.9944\n"
          ]
        },
        {
          "output_type": "execute_result",
          "data": {
            "text/plain": [
              "<keras.src.callbacks.History at 0x7de8a00b0c70>"
            ]
          },
          "metadata": {},
          "execution_count": 27
        }
      ]
    },
    {
      "cell_type": "code",
      "source": [
        "svd20_svd.evaluate(x_test,y_test)"
      ],
      "metadata": {
        "colab": {
          "base_uri": "https://localhost:8080/"
        },
        "id": "gyqmIzc1-RRB",
        "outputId": "42d898a7-3ac9-4d46-e4b4-50ae6490d049"
      },
      "execution_count": null,
      "outputs": [
        {
          "output_type": "stream",
          "name": "stdout",
          "text": [
            "313/313 [==============================] - 804s 3s/step - loss: 0.0952 - accuracy: 0.9810\n"
          ]
        },
        {
          "output_type": "execute_result",
          "data": {
            "text/plain": [
              "[0.09518812596797943, 0.9810000061988831]"
            ]
          },
          "metadata": {},
          "execution_count": 28
        }
      ]
    },
    {
      "cell_type": "markdown",
      "source": [
        "# Problem 4: Speaker Verification"
      ],
      "metadata": {
        "id": "bbiq7JbGE5NC"
      }
    },
    {
      "cell_type": "code",
      "source": [
        "import pickle\n",
        "\n",
        "with open('trs.pkl', 'rb') as file:\n",
        "    train = pickle.load(file)\n",
        "with open('tes.pkl', 'rb') as file:\n",
        "    test = pickle.load(file)"
      ],
      "metadata": {
        "id": "mi4-pi4bGXtT"
      },
      "execution_count": null,
      "outputs": []
    },
    {
      "cell_type": "code",
      "source": [
        "def positive(n,data, L):\n",
        "    pairs = [(a, b) for a in range(10) for b in range(a+1,10)]\n",
        "    out = []\n",
        "    pairs_L = random.sample(pairs, L)\n",
        "\n",
        "\n",
        "    for x,y in pairs_L:\n",
        "        stft1 = np.abs(librosa.stft(data[n*10+x], n_fft=1024, hop_length=512)).T\n",
        "        stft2 = np.abs(librosa.stft(data[n*10+y], n_fft=1024, hop_length=512)).T\n",
        "        out.append([stft1, stft2])\n",
        "\n",
        "\n",
        "    return out"
      ],
      "metadata": {
        "id": "cmDS_BvyGgOD"
      },
      "execution_count": null,
      "outputs": []
    },
    {
      "cell_type": "code",
      "source": [
        "def negative(n, data, L):\n",
        "  b_data = data[n*10: (n+1)*10]\n",
        "  a_data = np.append(data[:n*10],data[n*10+10:],0)\n",
        "\n",
        "  a_index = random.sample(range(len(a_data)),L)\n",
        "  b_index = []\n",
        "  while L > 10:\n",
        "    b_index += random.sample(range(10),10)\n",
        "    L -= 10\n",
        "  b_index += random.sample(range(10),L)\n",
        "\n",
        "  out = []\n",
        "\n",
        "\n",
        "\n",
        "  for x,y in zip(a_index, b_index):\n",
        "      stft1 = np.abs(librosa.stft(a_data[x], n_fft=1024, hop_length=512)).T\n",
        "      stft2 = np.abs(librosa.stft(b_data[y], n_fft=1024, hop_length=512)).T\n",
        "      out.append([stft1, stft2])\n",
        "\n",
        "\n",
        "  return out"
      ],
      "metadata": {
        "id": "nYVwXDwPMIOO"
      },
      "execution_count": null,
      "outputs": []
    },
    {
      "cell_type": "code",
      "source": [
        "x_train = []\n",
        "batch_size = 10\n",
        "for i in range(int(len(train)/10)):\n",
        "  x_train += positive(i, train, batch_size)\n",
        "  x_train += negative(i, train, batch_size)\n",
        "x_train = np.stack(x_train)"
      ],
      "metadata": {
        "id": "Q2bRAufHLOvp"
      },
      "execution_count": null,
      "outputs": []
    },
    {
      "cell_type": "code",
      "source": [
        "x_test = []\n",
        "batch_size = 10\n",
        "for i in range(int(len(test)/10)):\n",
        "  x_test += positive(i, test, batch_size)\n",
        "  x_test += negative(i, test, batch_size)\n",
        "x_test = np.stack(x_test)"
      ],
      "metadata": {
        "id": "Pk7sj0azfBuG"
      },
      "execution_count": null,
      "outputs": []
    },
    {
      "cell_type": "code",
      "source": [
        "y_train = []\n",
        "for i in range(int(len(train)/10)):\n",
        "    y_train.append(np.append(np.ones(batch_size),np.zeros(batch_size)))\n",
        "y_train = np.hstack(y_train)\n",
        "y_test = []\n",
        "for i in range(int(len(test)/10)):\n",
        "    y_test.append(np.append(np.ones(batch_size),np.zeros(batch_size)))\n",
        "y_test = np.hstack(y_test)"
      ],
      "metadata": {
        "id": "cmPFevswf_TV"
      },
      "execution_count": null,
      "outputs": []
    },
    {
      "cell_type": "code",
      "source": [
        "x_test.shape"
      ],
      "metadata": {
        "colab": {
          "base_uri": "https://localhost:8080/"
        },
        "id": "oQx17I6qiy1F",
        "outputId": "6f214d61-d11a-4bff-fed5-b445503181bc"
      },
      "execution_count": null,
      "outputs": [
        {
          "output_type": "execute_result",
          "data": {
            "text/plain": [
              "(1800, 2, 45, 513)"
            ]
          },
          "metadata": {},
          "execution_count": 109
        }
      ]
    },
    {
      "cell_type": "markdown",
      "source": [
        "#### Create siamese network"
      ],
      "metadata": {
        "id": "9i1xg7JsqjO8"
      }
    },
    {
      "cell_type": "code",
      "source": [
        "create_siamese = tf.keras.Sequential()\n",
        "create_siamese.add(tf.keras.layers.GRU(64, return_sequences = False,activation='relu'))\n",
        "create_siamese.add(tf.keras.layers.Dense(64, activation = 'relu'))\n",
        "\n",
        "postive_input = tf.keras.layers.Input([None,513])\n",
        "negative_input = tf.keras.layers.Input([None,513])\n",
        "postive_out = create_siamese(postive_input)\n",
        "negative_out = create_siamese(negative_input)\n",
        "\n",
        "similarity_score = tf.multiply(postive_out, negative_out)\n",
        "similarity_score = tf.keras.layers.Dense(1,activation='sigmoid')(similarity_score)\n",
        "\n",
        "siamese = tf.keras.models.Model(inputs = [postive_input,negative_input], outputs = similarity_score)"
      ],
      "metadata": {
        "colab": {
          "base_uri": "https://localhost:8080/"
        },
        "id": "yoAsY9urgZdN",
        "outputId": "34fce8fe-5cd6-4167-d4e1-db34764c8385"
      },
      "execution_count": null,
      "outputs": [
        {
          "output_type": "stream",
          "name": "stderr",
          "text": [
            "WARNING:tensorflow:Layer gru_8 will not use cuDNN kernels since it doesn't meet the criteria. It will use a generic GPU kernel as fallback when running on GPU.\n"
          ]
        }
      ]
    },
    {
      "cell_type": "code",
      "source": [
        "siamese.compile(optimizer=tf.keras.optimizers.Adam(0.001),loss='binary_crossentropy',metrics=[tf.keras.metrics.BinaryAccuracy()])"
      ],
      "metadata": {
        "id": "5eTqeXqghZSt"
      },
      "execution_count": null,
      "outputs": []
    },
    {
      "cell_type": "code",
      "source": [
        "siamese.fit([x_train[:, 0], x_train[:, 1]], y_train, batch_size=32, epochs=50)"
      ],
      "metadata": {
        "colab": {
          "base_uri": "https://localhost:8080/"
        },
        "id": "r6U2IMQSh_CN",
        "outputId": "00246e76-03cd-448c-9050-33d81d85be63"
      },
      "execution_count": null,
      "outputs": [
        {
          "output_type": "stream",
          "name": "stdout",
          "text": [
            "Epoch 1/50\n",
            "141/141 [==============================] - 12s 64ms/step - loss: 0.6956 - binary_accuracy: 0.5051\n",
            "Epoch 2/50\n",
            "141/141 [==============================] - 9s 67ms/step - loss: 0.6708 - binary_accuracy: 0.5756\n",
            "Epoch 3/50\n",
            "141/141 [==============================] - 10s 68ms/step - loss: 0.5628 - binary_accuracy: 0.6944\n",
            "Epoch 4/50\n",
            "141/141 [==============================] - 9s 65ms/step - loss: 0.4771 - binary_accuracy: 0.7707\n",
            "Epoch 5/50\n",
            "141/141 [==============================] - 9s 64ms/step - loss: 0.3919 - binary_accuracy: 0.8318\n",
            "Epoch 6/50\n",
            "141/141 [==============================] - 9s 64ms/step - loss: 0.3479 - binary_accuracy: 0.8487\n",
            "Epoch 7/50\n",
            "141/141 [==============================] - 9s 64ms/step - loss: 0.3202 - binary_accuracy: 0.8676\n",
            "Epoch 8/50\n",
            "141/141 [==============================] - 9s 66ms/step - loss: 0.2788 - binary_accuracy: 0.8831\n",
            "Epoch 9/50\n",
            "141/141 [==============================] - 9s 65ms/step - loss: 0.2475 - binary_accuracy: 0.8993\n",
            "Epoch 10/50\n",
            "141/141 [==============================] - 9s 64ms/step - loss: 0.2107 - binary_accuracy: 0.9184\n",
            "Epoch 11/50\n",
            "141/141 [==============================] - 9s 65ms/step - loss: 0.1956 - binary_accuracy: 0.9222\n",
            "Epoch 12/50\n",
            "141/141 [==============================] - 10s 69ms/step - loss: 0.1658 - binary_accuracy: 0.9411\n",
            "Epoch 13/50\n",
            "141/141 [==============================] - 9s 64ms/step - loss: 0.1411 - binary_accuracy: 0.9460\n",
            "Epoch 14/50\n",
            "141/141 [==============================] - 9s 65ms/step - loss: 0.1407 - binary_accuracy: 0.9460\n",
            "Epoch 15/50\n",
            "141/141 [==============================] - 9s 65ms/step - loss: 0.1270 - binary_accuracy: 0.9538\n",
            "Epoch 16/50\n",
            "141/141 [==============================] - 9s 64ms/step - loss: 0.1136 - binary_accuracy: 0.9593\n",
            "Epoch 17/50\n",
            "141/141 [==============================] - 9s 65ms/step - loss: 0.0873 - binary_accuracy: 0.9691\n",
            "Epoch 18/50\n",
            "141/141 [==============================] - 9s 65ms/step - loss: 0.0982 - binary_accuracy: 0.9640\n",
            "Epoch 19/50\n",
            "141/141 [==============================] - 9s 65ms/step - loss: 0.0950 - binary_accuracy: 0.9660\n",
            "Epoch 20/50\n",
            "141/141 [==============================] - 9s 65ms/step - loss: 0.0717 - binary_accuracy: 0.9764\n",
            "Epoch 21/50\n",
            "141/141 [==============================] - 9s 65ms/step - loss: 0.0863 - binary_accuracy: 0.9687\n",
            "Epoch 22/50\n",
            "141/141 [==============================] - 9s 65ms/step - loss: 0.0834 - binary_accuracy: 0.9711\n",
            "Epoch 23/50\n",
            "141/141 [==============================] - 9s 65ms/step - loss: 0.0655 - binary_accuracy: 0.9758\n",
            "Epoch 24/50\n",
            "141/141 [==============================] - 9s 65ms/step - loss: 0.0653 - binary_accuracy: 0.9782\n",
            "Epoch 25/50\n",
            "141/141 [==============================] - 9s 64ms/step - loss: 0.0646 - binary_accuracy: 0.9776\n",
            "Epoch 26/50\n",
            "141/141 [==============================] - 9s 67ms/step - loss: 0.0277 - binary_accuracy: 0.9911\n",
            "Epoch 27/50\n",
            "141/141 [==============================] - 10s 67ms/step - loss: 0.0415 - binary_accuracy: 0.9849\n",
            "Epoch 28/50\n",
            "141/141 [==============================] - 9s 66ms/step - loss: 0.0376 - binary_accuracy: 0.9884\n",
            "Epoch 29/50\n",
            "141/141 [==============================] - 9s 65ms/step - loss: 0.0550 - binary_accuracy: 0.9804\n",
            "Epoch 30/50\n",
            "141/141 [==============================] - 9s 64ms/step - loss: 0.0562 - binary_accuracy: 0.9840\n",
            "Epoch 31/50\n",
            "141/141 [==============================] - 9s 65ms/step - loss: 0.0313 - binary_accuracy: 0.9882\n",
            "Epoch 32/50\n",
            "141/141 [==============================] - 9s 65ms/step - loss: 0.0295 - binary_accuracy: 0.9904\n",
            "Epoch 33/50\n",
            "141/141 [==============================] - 9s 65ms/step - loss: 0.0337 - binary_accuracy: 0.9880\n",
            "Epoch 34/50\n",
            "141/141 [==============================] - 9s 65ms/step - loss: 0.0334 - binary_accuracy: 0.9891\n",
            "Epoch 35/50\n",
            "141/141 [==============================] - 9s 64ms/step - loss: 0.0517 - binary_accuracy: 0.9829\n",
            "Epoch 36/50\n",
            "141/141 [==============================] - 9s 65ms/step - loss: 0.0368 - binary_accuracy: 0.9880\n",
            "Epoch 37/50\n",
            "141/141 [==============================] - 9s 66ms/step - loss: 0.0582 - binary_accuracy: 0.9838\n",
            "Epoch 38/50\n",
            "141/141 [==============================] - 9s 65ms/step - loss: 0.0399 - binary_accuracy: 0.9858\n",
            "Epoch 39/50\n",
            "141/141 [==============================] - 9s 64ms/step - loss: 0.0109 - binary_accuracy: 0.9973\n",
            "Epoch 40/50\n",
            "141/141 [==============================] - 9s 64ms/step - loss: 0.0066 - binary_accuracy: 0.9982\n",
            "Epoch 41/50\n",
            "141/141 [==============================] - 9s 65ms/step - loss: 0.0036 - binary_accuracy: 0.9993\n",
            "Epoch 42/50\n",
            "141/141 [==============================] - 9s 65ms/step - loss: 0.0724 - binary_accuracy: 0.9791\n",
            "Epoch 43/50\n",
            "141/141 [==============================] - 9s 64ms/step - loss: 0.0740 - binary_accuracy: 0.9756\n",
            "Epoch 44/50\n",
            "141/141 [==============================] - 9s 65ms/step - loss: 0.0369 - binary_accuracy: 0.9882\n",
            "Epoch 45/50\n",
            "141/141 [==============================] - 9s 65ms/step - loss: 0.0249 - binary_accuracy: 0.9920\n",
            "Epoch 46/50\n",
            "141/141 [==============================] - 9s 65ms/step - loss: 0.0277 - binary_accuracy: 0.9927\n",
            "Epoch 47/50\n",
            "141/141 [==============================] - 9s 65ms/step - loss: 0.0250 - binary_accuracy: 0.9909\n",
            "Epoch 48/50\n",
            "141/141 [==============================] - 9s 64ms/step - loss: 0.0305 - binary_accuracy: 0.9907\n",
            "Epoch 49/50\n",
            "141/141 [==============================] - 9s 65ms/step - loss: 0.0395 - binary_accuracy: 0.9851\n",
            "Epoch 50/50\n",
            "141/141 [==============================] - 9s 65ms/step - loss: 0.0305 - binary_accuracy: 0.9911\n"
          ]
        },
        {
          "output_type": "execute_result",
          "data": {
            "text/plain": [
              "<keras.src.callbacks.History at 0x7b4796eccf40>"
            ]
          },
          "metadata": {},
          "execution_count": 125
        }
      ]
    },
    {
      "cell_type": "markdown",
      "source": [
        "##### Classification accuracy"
      ],
      "metadata": {
        "id": "d4o4k29tqmd2"
      }
    },
    {
      "cell_type": "code",
      "source": [
        "siamese.evaluate([x_test[:, 0], x_test[:, 1]] ,y_test)"
      ],
      "metadata": {
        "colab": {
          "base_uri": "https://localhost:8080/"
        },
        "id": "US9aaU-SiNBd",
        "outputId": "3e3bec0a-e422-4cc8-dfff-9477e8d538a1"
      },
      "execution_count": null,
      "outputs": [
        {
          "output_type": "stream",
          "name": "stdout",
          "text": [
            "57/57 [==============================] - 1s 19ms/step - loss: 1.3806 - binary_accuracy: 0.6911\n"
          ]
        },
        {
          "output_type": "execute_result",
          "data": {
            "text/plain": [
              "[1.3805829286575317, 0.6911110877990723]"
            ]
          },
          "metadata": {},
          "execution_count": 129
        }
      ]
    },
    {
      "cell_type": "markdown",
      "source": [
        "## Problem 5: Speech Denoising Using RNN"
      ],
      "metadata": {
        "id": "v4yLL5V0qsm0"
      }
    },
    {
      "cell_type": "code",
      "source": [
        "os.chdir('/content/drive/My Drive/tr')\n",
        "name_list = os.listdir('.')\n",
        "name_list.sort()"
      ],
      "metadata": {
        "id": "8CkRg93ccrDG"
      },
      "execution_count": 131,
      "outputs": []
    },
    {
      "cell_type": "code",
      "source": [
        "name_list[1200]"
      ],
      "metadata": {
        "colab": {
          "base_uri": "https://localhost:8080/",
          "height": 35
        },
        "id": "ZbQ5jiESAulk",
        "outputId": "9c46f233-d3ba-4a7f-db48-b2f993d1c486"
      },
      "execution_count": 132,
      "outputs": [
        {
          "output_type": "execute_result",
          "data": {
            "text/plain": [
              "'trs0000.wav'"
            ],
            "application/vnd.google.colaboratory.intrinsic+json": {
              "type": "string"
            }
          },
          "metadata": {},
          "execution_count": 132
        }
      ]
    },
    {
      "cell_type": "code",
      "source": [
        "trn = []\n",
        "for i in range(1200):\n",
        "    s, sr = librosa.load(name_list[i], sr=None)\n",
        "    s_ab = np.abs(librosa.stft(s, n_fft=1024, hop_length=512))\n",
        "    padding = np.zeros((513,178))\n",
        "    padding[:, :s_ab.shape[1]] = s_ab\n",
        "    trn.append(padding.T)"
      ],
      "metadata": {
        "id": "uk6AfXMYjSQi"
      },
      "execution_count": 133,
      "outputs": []
    },
    {
      "cell_type": "code",
      "source": [
        "trs = []\n",
        "for i in range(1200,2400):\n",
        "    s, sr = librosa.load(name_list[i], sr=None)\n",
        "    s_ab = np.abs(librosa.stft(s, n_fft=1024, hop_length=512))\n",
        "    padding = np.zeros((513,178))\n",
        "    padding[:, :s_ab.shape[1]] = s_ab\n",
        "    trs.append(padding.T)"
      ],
      "metadata": {
        "id": "GhQAYYPZkvLm"
      },
      "execution_count": 134,
      "outputs": []
    },
    {
      "cell_type": "code",
      "source": [
        "trx = []\n",
        "for i in range(2400,3600):\n",
        "    s, sr = librosa.load(name_list[i], sr=None)\n",
        "    s_ab = np.abs(librosa.stft(s, n_fft=1024, hop_length=512))\n",
        "    padding = np.zeros((513,178))\n",
        "    padding[:, :s_ab.shape[1]] = s_ab\n",
        "    trx.append(padding.T)"
      ],
      "metadata": {
        "id": "IB282MrsmB4b"
      },
      "execution_count": 135,
      "outputs": []
    },
    {
      "cell_type": "code",
      "source": [
        "ibm = []\n",
        "for i in range(len(trx)):\n",
        "  ibm_i = np.zeros((178,513))\n",
        "  ibm_i[trs[i] > trn[i]] = 1\n",
        "  ibm.append(ibm_i)"
      ],
      "metadata": {
        "id": "IW-8U_SKmb1F"
      },
      "execution_count": 136,
      "outputs": []
    },
    {
      "cell_type": "code",
      "source": [
        "x_train = np.stack(trx)\n",
        "y_train = np.stack(ibm)"
      ],
      "metadata": {
        "id": "DVanRiH4nh3z"
      },
      "execution_count": 137,
      "outputs": []
    },
    {
      "cell_type": "code",
      "source": [
        "lstm_model = tf.keras.models.Sequential()\n",
        "lstm_model.add(tf.keras.layers.LSTM(units=1024, return_sequences=True))\n",
        "lstm_model.add(tf.keras.layers.Dropout(rate = 0.2))\n",
        "lstm_model.add(tf.keras.layers.LSTM(units=1024, return_sequences=True))\n",
        "lstm_model.add(tf.keras.layers.Dropout(rate = 0.2))\n",
        "lstm_model.add(tf.keras.layers.TimeDistributed(tf.keras.layers.Dense(units=513, activation='sigmoid')))"
      ],
      "metadata": {
        "id": "xAsmGYgbnsfx"
      },
      "execution_count": 146,
      "outputs": []
    },
    {
      "cell_type": "code",
      "source": [
        "lstm_model.compile(optimizer = tf.keras.optimizers.Adam(learning_rate=0.001), loss = 'binary_crossentropy')"
      ],
      "metadata": {
        "id": "PmZKqvdb0UTI"
      },
      "execution_count": 147,
      "outputs": []
    },
    {
      "cell_type": "code",
      "source": [
        "lstm_model.fit(x_train, y_train, epochs=100, batch_size=10)"
      ],
      "metadata": {
        "colab": {
          "base_uri": "https://localhost:8080/"
        },
        "id": "k7Yz4ux81gH_",
        "outputId": "dfa8bbf3-4862-481b-dcf4-04bfc45aab3e"
      },
      "execution_count": 148,
      "outputs": [
        {
          "output_type": "stream",
          "name": "stdout",
          "text": [
            "Epoch 1/100\n",
            "120/120 [==============================] - 21s 127ms/step - loss: 0.4494\n",
            "Epoch 2/100\n",
            "120/120 [==============================] - 16s 131ms/step - loss: 0.3523\n",
            "Epoch 3/100\n",
            "120/120 [==============================] - 16s 132ms/step - loss: 0.3151\n",
            "Epoch 4/100\n",
            "120/120 [==============================] - 16s 131ms/step - loss: 0.2886\n",
            "Epoch 5/100\n",
            "120/120 [==============================] - 16s 129ms/step - loss: 0.2742\n",
            "Epoch 6/100\n",
            "120/120 [==============================] - 15s 129ms/step - loss: 0.2609\n",
            "Epoch 7/100\n",
            "120/120 [==============================] - 16s 130ms/step - loss: 0.2579\n",
            "Epoch 8/100\n",
            "120/120 [==============================] - 16s 130ms/step - loss: 0.2500\n",
            "Epoch 9/100\n",
            "120/120 [==============================] - 16s 131ms/step - loss: 0.2431\n",
            "Epoch 10/100\n",
            "120/120 [==============================] - 16s 130ms/step - loss: 0.2396\n",
            "Epoch 11/100\n",
            "120/120 [==============================] - 16s 130ms/step - loss: 0.2359\n",
            "Epoch 12/100\n",
            "120/120 [==============================] - 16s 130ms/step - loss: 0.2337\n",
            "Epoch 13/100\n",
            "120/120 [==============================] - 16s 130ms/step - loss: 0.2317\n",
            "Epoch 14/100\n",
            "120/120 [==============================] - 16s 130ms/step - loss: 0.2275\n",
            "Epoch 15/100\n",
            "120/120 [==============================] - 16s 129ms/step - loss: 0.2240\n",
            "Epoch 16/100\n",
            "120/120 [==============================] - 16s 129ms/step - loss: 0.2205\n",
            "Epoch 17/100\n",
            "120/120 [==============================] - 16s 130ms/step - loss: 0.2163\n",
            "Epoch 18/100\n",
            "120/120 [==============================] - 16s 130ms/step - loss: 0.2155\n",
            "Epoch 19/100\n",
            "120/120 [==============================] - 16s 130ms/step - loss: 0.2114\n",
            "Epoch 20/100\n",
            "120/120 [==============================] - 16s 130ms/step - loss: 0.2097\n",
            "Epoch 21/100\n",
            "120/120 [==============================] - 16s 130ms/step - loss: 0.2064\n",
            "Epoch 22/100\n",
            "120/120 [==============================] - 16s 130ms/step - loss: 0.2042\n",
            "Epoch 23/100\n",
            "120/120 [==============================] - 16s 130ms/step - loss: 0.2029\n",
            "Epoch 24/100\n",
            "120/120 [==============================] - 16s 130ms/step - loss: 0.1997\n",
            "Epoch 25/100\n",
            "120/120 [==============================] - 16s 130ms/step - loss: 0.1961\n",
            "Epoch 26/100\n",
            "120/120 [==============================] - 16s 130ms/step - loss: 0.1964\n",
            "Epoch 27/100\n",
            "120/120 [==============================] - 16s 130ms/step - loss: 0.1940\n",
            "Epoch 28/100\n",
            "120/120 [==============================] - 16s 130ms/step - loss: 0.1932\n",
            "Epoch 29/100\n",
            "120/120 [==============================] - 16s 130ms/step - loss: 0.1902\n",
            "Epoch 30/100\n",
            "120/120 [==============================] - 16s 130ms/step - loss: 0.1860\n",
            "Epoch 31/100\n",
            "120/120 [==============================] - 16s 130ms/step - loss: 0.1840\n",
            "Epoch 32/100\n",
            "120/120 [==============================] - 16s 130ms/step - loss: 0.1820\n",
            "Epoch 33/100\n",
            "120/120 [==============================] - 16s 130ms/step - loss: 0.1829\n",
            "Epoch 34/100\n",
            "120/120 [==============================] - 16s 130ms/step - loss: 0.1787\n",
            "Epoch 35/100\n",
            "120/120 [==============================] - 16s 130ms/step - loss: 0.1769\n",
            "Epoch 36/100\n",
            "120/120 [==============================] - 16s 130ms/step - loss: 0.1784\n",
            "Epoch 37/100\n",
            "120/120 [==============================] - 16s 130ms/step - loss: 0.1743\n",
            "Epoch 38/100\n",
            "120/120 [==============================] - 16s 130ms/step - loss: 0.1722\n",
            "Epoch 39/100\n",
            "120/120 [==============================] - 16s 130ms/step - loss: 0.1710\n",
            "Epoch 40/100\n",
            "120/120 [==============================] - 16s 130ms/step - loss: 0.1695\n",
            "Epoch 41/100\n",
            "120/120 [==============================] - 16s 130ms/step - loss: 0.1686\n",
            "Epoch 42/100\n",
            "120/120 [==============================] - 16s 130ms/step - loss: 0.1669\n",
            "Epoch 43/100\n",
            "120/120 [==============================] - 16s 130ms/step - loss: 0.1682\n",
            "Epoch 44/100\n",
            "120/120 [==============================] - 16s 130ms/step - loss: 0.1659\n",
            "Epoch 45/100\n",
            "120/120 [==============================] - 16s 130ms/step - loss: 0.1639\n",
            "Epoch 46/100\n",
            "120/120 [==============================] - 16s 130ms/step - loss: 0.1625\n",
            "Epoch 47/100\n",
            "120/120 [==============================] - 16s 130ms/step - loss: 0.1617\n",
            "Epoch 48/100\n",
            "120/120 [==============================] - 16s 130ms/step - loss: 0.1618\n",
            "Epoch 49/100\n",
            "120/120 [==============================] - 16s 130ms/step - loss: 0.1609\n",
            "Epoch 50/100\n",
            "120/120 [==============================] - 16s 130ms/step - loss: 0.1593\n",
            "Epoch 51/100\n",
            "120/120 [==============================] - 16s 130ms/step - loss: 0.1574\n",
            "Epoch 52/100\n",
            "120/120 [==============================] - 16s 130ms/step - loss: 0.1594\n",
            "Epoch 53/100\n",
            "120/120 [==============================] - 16s 130ms/step - loss: 0.1575\n",
            "Epoch 54/100\n",
            "120/120 [==============================] - 16s 130ms/step - loss: 0.1564\n",
            "Epoch 55/100\n",
            "120/120 [==============================] - 16s 130ms/step - loss: 0.1548\n",
            "Epoch 56/100\n",
            "120/120 [==============================] - 16s 130ms/step - loss: 0.1540\n",
            "Epoch 57/100\n",
            "120/120 [==============================] - 16s 130ms/step - loss: 0.1546\n",
            "Epoch 58/100\n",
            "120/120 [==============================] - 16s 130ms/step - loss: 0.1527\n",
            "Epoch 59/100\n",
            "120/120 [==============================] - 16s 130ms/step - loss: 0.1521\n",
            "Epoch 60/100\n",
            "120/120 [==============================] - 16s 130ms/step - loss: 0.1527\n",
            "Epoch 61/100\n",
            "120/120 [==============================] - 16s 130ms/step - loss: 0.1507\n",
            "Epoch 62/100\n",
            "120/120 [==============================] - 16s 130ms/step - loss: 0.1498\n",
            "Epoch 63/100\n",
            "120/120 [==============================] - 16s 130ms/step - loss: 0.1495\n",
            "Epoch 64/100\n",
            "120/120 [==============================] - 16s 130ms/step - loss: 0.1494\n",
            "Epoch 65/100\n",
            "120/120 [==============================] - 16s 130ms/step - loss: 0.1483\n",
            "Epoch 66/100\n",
            "120/120 [==============================] - 16s 130ms/step - loss: 0.1473\n",
            "Epoch 67/100\n",
            "120/120 [==============================] - 16s 130ms/step - loss: 0.1468\n",
            "Epoch 68/100\n",
            "120/120 [==============================] - 16s 130ms/step - loss: 0.1462\n",
            "Epoch 69/100\n",
            "120/120 [==============================] - 16s 130ms/step - loss: 0.1459\n",
            "Epoch 70/100\n",
            "120/120 [==============================] - 16s 130ms/step - loss: 0.1457\n",
            "Epoch 71/100\n",
            "120/120 [==============================] - 16s 130ms/step - loss: 0.1464\n",
            "Epoch 72/100\n",
            "120/120 [==============================] - 16s 130ms/step - loss: 0.1472\n",
            "Epoch 73/100\n",
            "120/120 [==============================] - 16s 130ms/step - loss: 0.1494\n",
            "Epoch 74/100\n",
            "120/120 [==============================] - 16s 130ms/step - loss: 0.1482\n",
            "Epoch 75/100\n",
            "120/120 [==============================] - 16s 130ms/step - loss: 0.1449\n",
            "Epoch 76/100\n",
            "120/120 [==============================] - 16s 130ms/step - loss: 0.1431\n",
            "Epoch 77/100\n",
            "120/120 [==============================] - 16s 130ms/step - loss: 0.1432\n",
            "Epoch 78/100\n",
            "120/120 [==============================] - 16s 130ms/step - loss: 0.1426\n",
            "Epoch 79/100\n",
            "120/120 [==============================] - 16s 130ms/step - loss: 0.1425\n",
            "Epoch 80/100\n",
            "120/120 [==============================] - 16s 130ms/step - loss: 0.1415\n",
            "Epoch 81/100\n",
            "120/120 [==============================] - 16s 130ms/step - loss: 0.1408\n",
            "Epoch 82/100\n",
            "120/120 [==============================] - 16s 130ms/step - loss: 0.1404\n",
            "Epoch 83/100\n",
            "120/120 [==============================] - 16s 130ms/step - loss: 0.1400\n",
            "Epoch 84/100\n",
            "120/120 [==============================] - 16s 130ms/step - loss: 0.1397\n",
            "Epoch 85/100\n",
            "120/120 [==============================] - 16s 130ms/step - loss: 0.1396\n",
            "Epoch 86/100\n",
            "120/120 [==============================] - 16s 130ms/step - loss: 0.1394\n",
            "Epoch 87/100\n",
            "120/120 [==============================] - 16s 130ms/step - loss: 0.1390\n",
            "Epoch 88/100\n",
            "120/120 [==============================] - 16s 130ms/step - loss: 0.1385\n",
            "Epoch 89/100\n",
            "120/120 [==============================] - 16s 131ms/step - loss: 0.1382\n",
            "Epoch 90/100\n",
            "120/120 [==============================] - 16s 130ms/step - loss: 0.1379\n",
            "Epoch 91/100\n",
            "120/120 [==============================] - 16s 130ms/step - loss: 0.1379\n",
            "Epoch 92/100\n",
            "120/120 [==============================] - 16s 131ms/step - loss: 0.1378\n",
            "Epoch 93/100\n",
            "120/120 [==============================] - 16s 130ms/step - loss: 0.1373\n",
            "Epoch 94/100\n",
            "120/120 [==============================] - 16s 130ms/step - loss: 0.1386\n",
            "Epoch 95/100\n",
            "120/120 [==============================] - 16s 130ms/step - loss: 0.1379\n",
            "Epoch 96/100\n",
            "120/120 [==============================] - 16s 130ms/step - loss: 0.1368\n",
            "Epoch 97/100\n",
            "120/120 [==============================] - 16s 130ms/step - loss: 0.1359\n",
            "Epoch 98/100\n",
            "120/120 [==============================] - 16s 130ms/step - loss: 0.1354\n",
            "Epoch 99/100\n",
            "120/120 [==============================] - 16s 130ms/step - loss: 0.1359\n",
            "Epoch 100/100\n",
            "120/120 [==============================] - 16s 130ms/step - loss: 0.1353\n"
          ]
        },
        {
          "output_type": "execute_result",
          "data": {
            "text/plain": [
              "<keras.src.callbacks.History at 0x7c602b2017b0>"
            ]
          },
          "metadata": {},
          "execution_count": 148
        }
      ]
    },
    {
      "cell_type": "markdown",
      "source": [
        "### Predict on validation set"
      ],
      "metadata": {
        "id": "f_7vvN8aX8qJ"
      }
    },
    {
      "cell_type": "code",
      "source": [
        "os.chdir('/content/drive/My Drive/v')\n",
        "name_list = os.listdir('.')\n",
        "name_list.sort()"
      ],
      "metadata": {
        "id": "FPcKLtpQ1qnW"
      },
      "execution_count": 149,
      "outputs": []
    },
    {
      "cell_type": "code",
      "source": [
        "vx = []\n",
        "for i in range(2400,3600):\n",
        "    s, sr = librosa.load(name_list[i], sr=None)\n",
        "    s_ab = np.abs(librosa.stft(s, n_fft=1024, hop_length=512))\n",
        "    padding = np.zeros((513,178))\n",
        "    padding[:, :s_ab.shape[1]] = s_ab\n",
        "    vx.append(padding.T)\n",
        "x_v = np.stack(vx)"
      ],
      "metadata": {
        "id": "My5Xz1t32BM0"
      },
      "execution_count": 162,
      "outputs": []
    },
    {
      "cell_type": "code",
      "source": [
        "predict = lstm_model.predict(x_v, batch_size=10)"
      ],
      "metadata": {
        "colab": {
          "base_uri": "https://localhost:8080/"
        },
        "id": "Hqy0dn6v21jD",
        "outputId": "d31b2d94-844d-4226-8a8c-bfe6cdd5969f"
      },
      "execution_count": 163,
      "outputs": [
        {
          "output_type": "stream",
          "name": "stdout",
          "text": [
            "120/120 [==============================] - 8s 66ms/step\n"
          ]
        }
      ]
    },
    {
      "cell_type": "code",
      "source": [
        "vx_cpx = []\n",
        "for i in range(2400,3600):\n",
        "    s, sr = librosa.load(name_list[i], sr=None)\n",
        "    s = librosa.stft(s, n_fft=1024, hop_length=512)\n",
        "    padding = np.zeros((513,178))*(0+0j)\n",
        "    padding[:, :s.shape[1]] = s\n",
        "    vx_cpx.append(padding.T)\n",
        "\n",
        "x_v_cpx = np.stack(vx_cpx)"
      ],
      "metadata": {
        "id": "BjUK6KTa4OHT"
      },
      "execution_count": 189,
      "outputs": []
    },
    {
      "cell_type": "code",
      "source": [
        "s_v = np.multiply(predict,x_v_cpx)"
      ],
      "metadata": {
        "id": "pG0XOO3pWIuu"
      },
      "execution_count": 196,
      "outputs": []
    },
    {
      "cell_type": "code",
      "source": [
        "snr = 0\n",
        "for i in range(1200,2400):\n",
        "    s, sr = librosa.load(name_list[i], sr=None)\n",
        "    s_stft = librosa.stft(s, n_fft=1024, hop_length=512)\n",
        "\n",
        "    denoised = s_v[i-1200][:s_stft.shape[1]]\n",
        "    recon = librosa.istft(denoised.T,hop_length=512, length=s.shape[0])\n",
        "    new_snr = 10 * np.log10(np.sum(np.square(s))/np.sum(np.square(s-recon)))\n",
        "    snr += new_snr\n",
        "\n",
        "print(snr / 1200)"
      ],
      "metadata": {
        "colab": {
          "base_uri": "https://localhost:8080/"
        },
        "id": "xsJj8Nva6YNd",
        "outputId": "11904d41-b127-4683-d9cb-0a315e41ecdc"
      },
      "execution_count": 210,
      "outputs": [
        {
          "output_type": "stream",
          "name": "stdout",
          "text": [
            "12.445149718283155\n"
          ]
        }
      ]
    },
    {
      "cell_type": "markdown",
      "source": [
        "### Make prediction on testing set"
      ],
      "metadata": {
        "id": "XpXRGAx1YAsX"
      }
    },
    {
      "cell_type": "code",
      "source": [
        "os.chdir('/content/drive/My Drive/te')\n",
        "name_list = os.listdir('.')\n",
        "name_list.sort()"
      ],
      "metadata": {
        "id": "7mk4ZIk8YE7o"
      },
      "execution_count": 248,
      "outputs": []
    },
    {
      "cell_type": "code",
      "source": [
        "tex = []\n",
        "tex_cpx=[]\n",
        "for i in range(len(name_list)):\n",
        "    s, sr = librosa.load(name_list[i], sr=None)\n",
        "    s = librosa.stft(s, n_fft=1024, hop_length=512)\n",
        "    padding = np.zeros((513,195))*(0+0j)\n",
        "    padding[:, :s.shape[1]] = s\n",
        "    tex_cpx.append(padding.T)\n",
        "    tex.append(np.abs(padding.T))\n",
        "tex = np.stack(tex)\n",
        "tex_cpx = np.stack(tex_cpx)"
      ],
      "metadata": {
        "id": "KuHVu7S_YGn_"
      },
      "execution_count": 249,
      "outputs": []
    },
    {
      "cell_type": "code",
      "source": [
        "prediction_test = lstm_model.predict(tex,batch_size=10)"
      ],
      "metadata": {
        "colab": {
          "base_uri": "https://localhost:8080/"
        },
        "id": "QNHi6o5XZcOr",
        "outputId": "e2df6c12-22d6-4eda-95cf-8adf06c00c26"
      },
      "execution_count": 250,
      "outputs": [
        {
          "output_type": "stream",
          "name": "stdout",
          "text": [
            "38/38 [==============================] - 4s 67ms/step\n"
          ]
        }
      ]
    },
    {
      "cell_type": "code",
      "source": [
        "s_te = np.multiply(prediction_test,tex_cpx)"
      ],
      "metadata": {
        "id": "YcJLIdjWZxNZ"
      },
      "execution_count": 252,
      "outputs": []
    },
    {
      "cell_type": "code",
      "source": [
        "for i in range(len(prediction_test)):\n",
        "  s, sr = librosa.load(name_list[i], sr=None)\n",
        "  denoised = librosa.istft(prediction_test[i].T, hop_length=512)\n",
        "\n",
        "  denoised = denoised[:len(s)]\n",
        "  sf.write(name_list[i][:-4]+\"_denoised.wav\", denoised, sr)"
      ],
      "metadata": {
        "id": "RViqVnPUaMqI"
      },
      "execution_count": 253,
      "outputs": []
    },
    {
      "cell_type": "code",
      "source": [
        "os.chdir('/content')"
      ],
      "metadata": {
        "id": "HO5QTAZ8b73u"
      },
      "execution_count": 255,
      "outputs": []
    },
    {
      "cell_type": "code",
      "source": [
        "!jupyter nbconvert DLS_HW3_Tianyu_Sun.ipynb --to html"
      ],
      "metadata": {
        "colab": {
          "base_uri": "https://localhost:8080/"
        },
        "id": "MGF7oDc_bV7R",
        "outputId": "2773436a-20b0-4d3f-9cca-729a52043c5b"
      },
      "execution_count": 237,
      "outputs": [
        {
          "output_type": "stream",
          "name": "stdout",
          "text": [
            "[NbConvertApp] Converting notebook DLS_HW3_Tianyu_Sun.ipynb to html\n",
            "[NbConvertApp] Writing 775745 bytes to DLS_HW3_Tianyu_Sun.html\n"
          ]
        }
      ]
    }
  ]
}